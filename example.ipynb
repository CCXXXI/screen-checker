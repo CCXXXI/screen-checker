{
 "cells": [
  {
   "cell_type": "code",
   "execution_count": 1,
   "outputs": [],
   "source": [
    "import cv2\n",
    "\n",
    "from main import Color, find_screen, check_screen"
   ],
   "metadata": {
    "collapsed": false,
    "pycharm": {
     "name": "#%%\n"
    }
   }
  },
  {
   "cell_type": "code",
   "execution_count": 2,
   "outputs": [
    {
     "data": {
      "text/plain": "array([[4416,  486],\n       [ 228,  568],\n       [ 312, 3125],\n       [4413, 3086]], dtype=int32)"
     },
     "execution_count": 2,
     "metadata": {},
     "output_type": "execute_result"
    }
   ],
   "source": [
    "photo = cv2.imread(\"./resources/white 0.jpg\")\n",
    "corners = find_screen(photo, Color.WHITE)\n",
    "corners"
   ],
   "metadata": {
    "collapsed": false,
    "pycharm": {
     "name": "#%%\n"
    }
   }
  },
  {
   "cell_type": "code",
   "execution_count": 3,
   "outputs": [
    {
     "data": {
      "text/plain": "[9.1859699741743288,\n 116.77752304410168,\n 37.917737077813982,\n 42.629715637446438,\n 72.165791212083278]"
     },
     "execution_count": 3,
     "metadata": {},
     "output_type": "execute_result"
    }
   ],
   "source": [
    "[\n",
    "    check_screen(photo, Color.WHITE, corners),\n",
    "    check_screen(photo, Color.BLACK, corners),\n",
    "    check_screen(photo, Color.RED, corners),\n",
    "    check_screen(photo, Color.GREEN, corners),\n",
    "    check_screen(photo, Color.BLUE, corners),\n",
    "]\n"
   ],
   "metadata": {
    "collapsed": false,
    "pycharm": {
     "name": "#%%\n"
    }
   }
  }
 ],
 "metadata": {
  "kernelspec": {
   "display_name": "Python 3",
   "language": "python",
   "name": "python3"
  },
  "language_info": {
   "codemirror_mode": {
    "name": "ipython",
    "version": 2
   },
   "file_extension": ".py",
   "mimetype": "text/x-python",
   "name": "python",
   "nbconvert_exporter": "python",
   "pygments_lexer": "ipython2",
   "version": "2.7.6"
  }
 },
 "nbformat": 4,
 "nbformat_minor": 0
}